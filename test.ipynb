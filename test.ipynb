{
 "cells": [
  {
   "cell_type": "code",
   "execution_count": 12,
   "metadata": {},
   "outputs": [
    {
     "data": {
      "image/png": "[encoded data removed]",
      "text/plain": [
       "<Figure size 640x480 with 1 Axes>"
      ]
     },
     "metadata": {},
     "output_type": "display_data"
    }
   ],
   "source": [
    "import numpy as np\n",
    "import matplotlib.pyplot as plt\n",
    "from PIL import Image, ImageDraw, ImageFont\n",
    "\n",
    "def create_text_depthmap(text=\"HELLO WORLD\", shape=(600, 800), font_path='font.ttf', font_size=128):\n",
    "    # Load font\n",
    "    try:\n",
    "        font = ImageFont.truetype(font_path, font_size)\n",
    "    except IOError:\n",
    "        font = ImageFont.load_default()\n",
    "\n",
    "    # Create image large enough to contain the text\n",
    "    temp_image = Image.new('RGB', (2048, 2048))\n",
    "    draw = ImageDraw.Draw(temp_image)\n",
    "\n",
    "    # Split text into words and process for line wrapping\n",
    "    words = text.split()\n",
    "    lines = []\n",
    "    line = []\n",
    "    line_width = 0\n",
    "    space_width = draw.textbbox((0, 0), ' ', font=font)[2] - draw.textbbox((0, 0), '', font=font)[2]\n",
    "\n",
    "    for word in words:\n",
    "        word_width = draw.textbbox((0, 0), word, font=font)[2] - draw.textbbox((0, 0), '', font=font)[2]\n",
    "        if line_width + word_width + space_width <= shape[0]:\n",
    "            line.append(word)\n",
    "            line_width += word_width + space_width\n",
    "        else:\n",
    "            lines.append(' '.join(line))\n",
    "            line = [word]\n",
    "            line_width = word_width + space_width\n",
    "    if line:\n",
    "        lines.append(' '.join(line))\n",
    "\n",
    "    # Calculate total text height for vertical centering\n",
    "    text_height = 0\n",
    "    line_heights = []\n",
    "    for line in lines:\n",
    "        line_bbox = draw.textbbox((0, 0), line, font=font)\n",
    "        line_height = line_bbox[3] - line_bbox[1]\n",
    "        text_height += line_height + 10  # Added 10 for padding between lines\n",
    "        line_heights.append(line_height)\n",
    "\n",
    "    start_y = (shape[1] - text_height) // 2 if shape[1] > text_height else 0\n",
    "\n",
    "    # Create final image\n",
    "    image = Image.new('1', (shape[0], shape[1]), 0)\n",
    "    draw = ImageDraw.Draw(image)\n",
    "\n",
    "    y = start_y\n",
    "    for i, line in enumerate(lines):\n",
    "        words = line.split()\n",
    "        x = (shape[0] - sum(draw.textbbox((0, 0), w, font=font)[2] - draw.textbbox((0, 0), '', font=font)[2] + space_width for w in words[:-1]) - (draw.textbbox((0, 0), words[-1], font=font)[2] - draw.textbbox((0, 0), '', font=font)[2])) // 2\n",
    "        for word in words:\n",
    "            for char in word:\n",
    "                char_width = draw.textbbox((0, 0), char, font=font)[2] - draw.textbbox((0, 0), '', font=font)[2]\n",
    "                draw.text((x, y), char, 1, font=font)\n",
    "                x += char_width\n",
    "            x += space_width  # add space after each word except the last\n",
    "        y += line_heights[i] + 10  # Updated to include padding\n",
    "\n",
    "    # Convert to numpy array and create depth map\n",
    "    array = np.array(image)\n",
    "    return array.astype(int)\n",
    "\n",
    "# Example usage\n",
    "text = \"HELLO WORLD THIS IS A TEST OF WORD WRAPPING AND CHARACTER DRAWING\"\n",
    "depth_map_corrected = create_text_depthmap(\"HELLO WORLD\")\n",
    "plt.imshow(depth_map_corrected, cmap='gray')\n",
    "plt.title(\"Centered Text Depth Map\")\n",
    "plt.axis('off')\n",
    "plt.show()\n"
   ]
  },
  {
   "cell_type": "code",
   "execution_count": 13,
   "metadata": {},
   "outputs": [
    {
     "data": {
      "text/plain": [
       "array([[0, 0, 0, ..., 0, 0, 0],\n",
       "       [0, 0, 0, ..., 0, 0, 0],\n",
       "       [0, 0, 0, ..., 0, 0, 0],\n",
       "       ...,\n",
       "       [0, 0, 0, ..., 0, 0, 0],\n",
       "       [0, 0, 0, ..., 0, 0, 0],\n",
       "       [0, 0, 0, ..., 0, 0, 0]])"
      ]
     },
     "execution_count": 13,
     "metadata": {},
     "output_type": "execute_result"
    }
   ],
   "source": [
    "depth_map_corrected"
   ]
  },
  {
   "cell_type": "code",
   "execution_count": 2,
   "metadata": {},
   "outputs": [
    {
     "data": {
      "image/png": "[encoded data removed]",
      "text/plain": [
       "<Figure size 640x480 with 1 Axes>"
      ]
     },
     "metadata": {},
     "output_type": "display_data"
    }
   ],
   "source": [
    "import numpy as np\n",
    "import matplotlib.pyplot as plt\n",
    "from PIL import Image, ImageDraw, ImageFont\n",
    "\n",
    "def create_text_depth_map_bold(text=\"HELLO WORLD\", width=600, height=800, font_size=64):\n",
    "    # Use default font\n",
    "    font = ImageFont.load_default()\n",
    "\n",
    "    # Create image large enough to contain the text\n",
    "    temp_image = Image.new('RGB', (1000, 1000))\n",
    "    draw = ImageDraw.Draw(temp_image)\n",
    "\n",
    "    # Split text into words and process for line wrapping\n",
    "    words = text.split()\n",
    "    lines = []\n",
    "    line = []\n",
    "    line_width = 0\n",
    "    space_width = draw.textbbox((0, 0), ' ', font=font)[2]\n",
    "\n",
    "    for word in words:\n",
    "        word_width = draw.textbbox((0, 0), word, font=font)[2]\n",
    "        if line_width + word_width + space_width <= width:\n",
    "            line.append(word)\n",
    "            line_width += word_width + space_width\n",
    "        else:\n",
    "            lines.append(' '.join(line))\n",
    "            line = [word]\n",
    "            line_width = word_width + space_width\n",
    "    if line:\n",
    "        lines.append(' '.join(line))\n",
    "\n",
    "    # Calculate total text height for vertical centering\n",
    "    text_height = 0\n",
    "    line_heights = []\n",
    "    for line in lines:\n",
    "        line_bbox = draw.textbbox((0, 0), line, font=font)\n",
    "        line_height = line_bbox[3] - line_bbox[1]\n",
    "        text_height += line_height + 10  # Added 10 for padding between lines\n",
    "        line_heights.append(line_height)\n",
    "\n",
    "    start_y = (height - text_height) // 2 if height > text_height else 0\n",
    "\n",
    "    # Create final image\n",
    "    image = Image.new('1', (width, max(height, text_height)), 0)\n",
    "    draw = ImageDraw.Draw(image)\n",
    "\n",
    "    y = start_y\n",
    "    for i, line in enumerate(lines):\n",
    "        words = line.split()\n",
    "        line_width = sum(draw.textbbox((0, 0), w, font=font)[2] + space_width for w in words[:-1]) + draw.textbbox((0, 0), words[-1], font=font)[2]\n",
    "        x = (width - line_width) // 2\n",
    "        for word in words:\n",
    "            # Simulate bold text by overlapping the text with slight offsets\n",
    "            offsets = [(-1, 0), (1, 0), (0, -1), (0, 1)]\n",
    "            for dx, dy in offsets:\n",
    "                draw.text((x + dx, y + dy), word, 1, font=font)\n",
    "            draw.text((x, y), word, 1, font=font)\n",
    "            x += draw.textbbox((0, 0), word, font=font)[2] + space_width\n",
    "        y += line_heights[i] + 10  # Updated to include padding\n",
    "\n",
    "    # Convert to numpy array and create depth map\n",
    "    array = np.array(image)\n",
    "    return array\n",
    "\n",
    "# Example usage\n",
    "text = \"HELLO WORLD THIS IS A TEST OF WORD WRAPPING AND CHARACTER DRAWING\"\n",
    "depth_map_bold = create_text_depth_map_bold(text)\n",
    "plt.imshow(depth_map_bold, cmap='gray')\n",
    "plt.title(\"Bold Centered Text Depth Map\")\n",
    "plt.axis('off')\n",
    "plt.show()\n"
   ]
  }
 ],
 "metadata": {
  "kernelspec": {
   "display_name": "venv",
   "language": "python",
   "name": "python3"
  },
  "language_info": {
   "codemirror_mode": {
    "name": "ipython",
    "version": 3
   },
   "file_extension": ".py",
   "mimetype": "text/x-python",
   "name": "python",
   "nbconvert_exporter": "python",
   "pygments_lexer": "ipython3",
   "version": "3.12.0"
  }
 },
 "nbformat": 4,
 "nbformat_minor": 2
}
